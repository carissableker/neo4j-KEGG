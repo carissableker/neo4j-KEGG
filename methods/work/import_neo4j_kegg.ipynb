{
 "cells": [
  {
   "cell_type": "markdown",
   "metadata": {},
   "source": [
    "## Load modules"
   ]
  },
  {
   "cell_type": "code",
   "execution_count": 1,
   "metadata": {},
   "outputs": [],
   "source": [
    "from py2neo import Graph, Node, Relationship"
   ]
  },
  {
   "cell_type": "markdown",
   "metadata": {},
   "source": [
    "## Address of the graph\n",
    "See http://localhost:7474/browser/ for the neo4j interface. "
   ]
  },
  {
   "cell_type": "code",
   "execution_count": 2,
   "metadata": {},
   "outputs": [],
   "source": [
    "graph = Graph(host=\"neo4j\")"
   ]
  },
  {
   "cell_type": "markdown",
   "metadata": {},
   "source": [
    "# Load graph\n",
    "To load the graph from scratch, run the following cells. "
   ]
  },
  {
   "cell_type": "code",
   "execution_count": 3,
   "metadata": {},
   "outputs": [],
   "source": [
    "graph.delete_all()"
   ]
  },
  {
   "cell_type": "markdown",
   "metadata": {},
   "source": [
    "## Load compounds"
   ]
  },
  {
   "cell_type": "code",
   "execution_count": 4,
   "metadata": {},
   "outputs": [
    {
     "name": "stdout",
     "output_type": "stream",
     "text": [
      "ID\tNAME\tSYNONYMS\tFORMULA\tPATHWAY\tBRITE_HIERARCHY\r\n",
      "C00001\tH2O\tH2O,Water\tH2O\tmap00190,map00195,map00710,map01100,map01120,map04918,map04924,map04962,map04964,map04966,map04970,map04971,map04972,map04976,map05014\t\r\n",
      "C00002\tATP\tATP,Adenosine 5'-triphosphate\tC10H16N5O13P3\tmap00190,map00195,map00230,map00231,map00908,map01100,map01110,map01130,map03070,map04020,map04066,map04080,map04142,map04217,map04611,map04621,map04714,map04721,map04742,map04750,map04911,map04917,map04924,map04930,map05012,map05133,map05410\tRibonucleotides,Nucleotides,Nucleic acids,br08001,Coenzymes,Cofactors,Vitamins and Cofactors,br08001\r\n"
     ]
    }
   ],
   "source": [
    "!head -n3 /home/jovyan/data/import/KEGG_compound_entities.tsv"
   ]
  },
  {
   "cell_type": "code",
   "execution_count": 5,
   "metadata": {},
   "outputs": [
    {
     "data": {
      "text/plain": [
       "<py2neo.database.Cursor at 0x7f4220397550>"
      ]
     },
     "execution_count": 5,
     "metadata": {},
     "output_type": "execute_result"
    }
   ],
   "source": [
    "query1 = '''USING PERIODIC COMMIT 10000\n",
    "           LOAD CSV WITH HEADERS FROM  'file:///KEGG_compound_entities.tsv' AS line FIELDTERMINATOR '\\t'\n",
    "           CREATE (p:COMPOUND { id:line.ID, \n",
    "                                NAME:line.NAME, \n",
    "                                SYNONYMS:split(line.SYNONYMS, \",\"), \n",
    "                                FORMULA:line.FORMULA, \n",
    "                                PATHWAY:split(line.PATHWAY, \",\"), \n",
    "                                BRITE_HIERARCHY:split(line.BRITE_HIERARCHY, \",\")})'''\n",
    "graph.run(query1)"
   ]
  },
  {
   "cell_type": "code",
   "execution_count": 6,
   "metadata": {},
   "outputs": [
    {
     "data": {
      "text/plain": [
       "<py2neo.database.Cursor at 0x7f4211e71dd8>"
      ]
     },
     "execution_count": 6,
     "metadata": {},
     "output_type": "execute_result"
    }
   ],
   "source": [
    "query2 = '''CREATE CONSTRAINT ON (compound:COMPOUND) ASSERT compound.id IS UNIQUE'''\n",
    "graph.run(query2)"
   ]
  },
  {
   "cell_type": "markdown",
   "metadata": {},
   "source": [
    "# Load reactions"
   ]
  },
  {
   "cell_type": "code",
   "execution_count": 7,
   "metadata": {},
   "outputs": [
    {
     "name": "stdout",
     "output_type": "stream",
     "text": [
      "ID\tNAME\tSYNONYMS\tNAME_EQUATION\tEQUATION\tEC_NUMBERS\tPATHWAY\r\n",
      "R00001\t\"polyphosphate polyphosphohydrolase\"\tpolyphosphate polyphosphohydrolase\t\"Polyphosphate + n H2O <=> (n+1) Oligophosphate\"\t\"C00404 + n C00001 <=> (n+1) C02174\"\t3.6.1.10\t\r\n",
      "R00002\t\"Reduced ferredoxin:dinitrogen oxidoreductase (ATP-hydrolysing)\"\tReduced ferredoxin:dinitrogen oxidoreductase (ATP-hydrolysing)\t\"16 ATP + 16 H2O + 8 Reduced ferredoxin <=> 8 e- + 16 Orthophosphate + 16 ADP + 8 Oxidized ferredoxin\"\t\"16 C00002 + 16 C00001 + 8 C00138 <=> 8 C05359 + 16 C00009 + 16 C00008 + 8 C00139\"\t1.18.6.1\t\r\n"
     ]
    }
   ],
   "source": [
    "!head -n3 /home/jovyan/data/import/KEGG_reaction_entities.tsv"
   ]
  },
  {
   "cell_type": "code",
   "execution_count": 9,
   "metadata": {},
   "outputs": [
    {
     "data": {
      "text/plain": [
       "<py2neo.database.Cursor at 0x7f4211e911d0>"
      ]
     },
     "execution_count": 9,
     "metadata": {},
     "output_type": "execute_result"
    }
   ],
   "source": [
    "query3 = '''USING PERIODIC COMMIT 10000\n",
    "           LOAD CSV WITH HEADERS FROM  'file:///KEGG_reaction_entities.tsv' AS line FIELDTERMINATOR '\\t'\n",
    "           CREATE (p:REACTION { id:line.ID, \n",
    "                                NAME:line.NAME, \n",
    "                                SYNONYMS:split(line.SYNONYMS, \",\"), \n",
    "                                EC_NUMBERS:split(line.EC_NUMBERS, \",\"), \n",
    "                                EQUATION:line.EQUATION, \n",
    "                                NAME_EQUATION:line.NAME_EQUATION, \n",
    "                                PATHWAY:split(line.PATHWAY, \",\") \n",
    "                                })'''\n",
    "graph.run(query3)"
   ]
  },
  {
   "cell_type": "code",
   "execution_count": 10,
   "metadata": {},
   "outputs": [
    {
     "data": {
      "text/plain": [
       "<py2neo.database.Cursor at 0x7f4210bae080>"
      ]
     },
     "execution_count": 10,
     "metadata": {},
     "output_type": "execute_result"
    }
   ],
   "source": [
    "query4 = '''CREATE CONSTRAINT ON (reaction:REACTION) ASSERT reaction.id IS UNIQUE'''\n",
    "graph.run(query4)"
   ]
  },
  {
   "cell_type": "markdown",
   "metadata": {},
   "source": [
    "# Load `reaction-compound` edges"
   ]
  },
  {
   "cell_type": "markdown",
   "metadata": {},
   "source": [
    "## Products"
   ]
  },
  {
   "cell_type": "code",
   "execution_count": 11,
   "metadata": {},
   "outputs": [
    {
     "name": "stdout",
     "output_type": "stream",
     "text": [
      "rxnID\tcpdID\tSTOICHIOMETRY\r\n",
      "R00001\tC02174\tn+1\r\n",
      "R00002\tC05359\t8\r\n"
     ]
    }
   ],
   "source": [
    "!head -n3 /home/jovyan/data/import/KEGG_relationship_PRODUCT.tsv"
   ]
  },
  {
   "cell_type": "code",
   "execution_count": 12,
   "metadata": {},
   "outputs": [
    {
     "data": {
      "text/plain": [
       "<py2neo.database.Cursor at 0x7f4210bae6d8>"
      ]
     },
     "execution_count": 12,
     "metadata": {},
     "output_type": "execute_result"
    }
   ],
   "source": [
    "query5 = '''USING PERIODIC COMMIT 500\n",
    "            LOAD CSV WITH HEADERS FROM 'file:///KEGG_relationship_PRODUCT.tsv' AS line FIELDTERMINATOR '\\t'\n",
    "            MATCH (reaction:REACTION {id:line.rxnID}), (compound:COMPOUND {id:line.cpdID})\n",
    "            CREATE (reaction)-[:PRODUCT {STOICHIOMETRY:line.STOICHIOMETRY}]->(compound)'''\n",
    "graph.run(query5)"
   ]
  },
  {
   "cell_type": "markdown",
   "metadata": {},
   "source": [
    "## Substrates"
   ]
  },
  {
   "cell_type": "code",
   "execution_count": 13,
   "metadata": {},
   "outputs": [
    {
     "name": "stdout",
     "output_type": "stream",
     "text": [
      "rxnID\tcpdID\tSTOICHIOMETRY\r\n",
      "R00001\tC00404\t1\r\n",
      "R00001\tC00001\tn\r\n"
     ]
    }
   ],
   "source": [
    "!head -n3 /home/jovyan/data/import/KEGG_relationship_SUBSTRATE.tsv"
   ]
  },
  {
   "cell_type": "code",
   "execution_count": 14,
   "metadata": {},
   "outputs": [
    {
     "data": {
      "text/plain": [
       "<py2neo.database.Cursor at 0x7f4211e71c88>"
      ]
     },
     "execution_count": 14,
     "metadata": {},
     "output_type": "execute_result"
    }
   ],
   "source": [
    "query6 = '''USING PERIODIC COMMIT 500\n",
    "            LOAD CSV WITH HEADERS FROM 'file:///KEGG_relationship_SUBSTRATE.tsv' AS line FIELDTERMINATOR '\\t'\n",
    "            MATCH (reaction:REACTION {id:line.rxnID}), (compound:COMPOUND {id:line.cpdID})\n",
    "            CREATE (compound)-[:SUBSTRATE {STOICHIOMETRY:line.STOICHIOMETRY}]->(reaction)'''\n",
    "graph.run(query6)"
   ]
  },
  {
   "cell_type": "code",
   "execution_count": null,
   "metadata": {},
   "outputs": [],
   "source": []
  }
 ],
 "metadata": {
  "kernelspec": {
   "display_name": "Python 3",
   "language": "python",
   "name": "python3"
  },
  "language_info": {
   "codemirror_mode": {
    "name": "ipython",
    "version": 3
   },
   "file_extension": ".py",
   "mimetype": "text/x-python",
   "name": "python",
   "nbconvert_exporter": "python",
   "pygments_lexer": "ipython3",
   "version": "3.7.3"
  }
 },
 "nbformat": 4,
 "nbformat_minor": 2
}
